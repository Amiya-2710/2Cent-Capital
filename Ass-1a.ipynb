import pandas as pd
import numpy as np
import matplotlib.pyplot as plt

# Re-load the uploaded CSV files
file_path_1 = '//content/FINNIFTY25JUL2320000PE.csv'
file_path_2 = '//content/FINNIFTY30JAN2421500CE.csv'

# Load data
data_pe = pd.read_csv(file_path_1)
data_ce = pd.read_csv(file_path_2)

# Function to implement the Long Straddle strategy
def long_straddle(data_pe, data_ce):
    """
    Long Straddle Strategy:
    Buy both a put and call with the same strike price and expiration.
    """
    # Calculate the debit (total cost) of buying both options
    debit = data_pe['open'] + data_ce['open']
    
    # Calculate daily profit or loss from both put and call positions
    straddle_profit = (data_ce['close'] - data_ce['open']) + (data_pe['close'] - data_pe['open'])
    
    # Calculate break-even points
    strike_price = data_ce['spot_price']
    breakeven_lower = strike_price - debit
    breakeven_upper = strike_price + debit
    
    return straddle_profit, breakeven_lower, breakeven_upper

# Function to implement the Long Strangle strategy
def long_strangle(data_pe, data_ce):
    """
    Long Strangle Strategy:
    Buy a call and a put with different strike prices (out-of-the-money).
    """
    # Calculate the debit (total cost) of buying both options
    debit = data_pe['open'] + data_ce['open']
    
    # Considering "open" as buying price and "close" as selling price for both call and put
    strangle_profit = (data_ce['close'] - data_ce['open']) + (data_pe['close'] - data_pe['open'])
    
    # Calculate break-even points
    lower_strike_price = data_pe['spot_price']  # Assuming put has lower strike price
    higher_strike_price = data_ce['spot_price']  # Assuming call has higher strike price
    breakeven_lower = lower_strike_price - debit
    breakeven_upper = higher_strike_price + debit
    
    return strangle_profit, breakeven_lower, breakeven_upper

# Function to implement Volatility Arbitrage
def volatility_arbitrage(data_pe, data_ce):
    """
    Volatility Arbitrage Strategy:
    Enter positions based on implied volatility difference between expected and actual.
    """
    # Define a threshold to identify mispricing
    iv_threshold = 0.15
    ce_arbitrage_profit = data_ce[(data_ce['iv'] > iv_threshold)]['close'] - data_ce[(data_ce['iv'] > iv_threshold)]['open']
    pe_arbitrage_profit = data_pe[(data_pe['iv'] > iv_threshold)]['close'] - data_pe[(data_pe['iv'] > iv_threshold)]['open']
    return ce_arbitrage_profit.fillna(0) + pe_arbitrage_profit.fillna(0)

# Run strategies on the datasets
straddle_profit, straddle_breakeven_lower, straddle_breakeven_upper = long_straddle(data_pe, data_ce)
strangle_profit, strangle_breakeven_lower, strangle_breakeven_upper = long_strangle(data_pe, data_ce)
vol_arbitrage_profit = volatility_arbitrage(data_pe, data_ce)

# Calculate metrics for each strategy
strategies = {
    "Long Straddle": straddle_profit,
    "Long Strangle": strangle_profit,
    "Volatility Arbitrage": vol_arbitrage_profit
}

results = {}
for strategy_name, strategy_returns in strategies.items():
    cumulative_returns = strategy_returns.cumsum()
    results[strategy_name] = {
        "Sharpe Ratio": np.mean(strategy_returns) / np.std(strategy_returns),
        "Max Drawdown": (cumulative_returns - np.maximum.accumulate(cumulative_returns)).min(),
        "Annualized Return": (cumulative_returns.iloc[-1] / cumulative_returns.iloc[0]) ** (252 / len(cumulative_returns)) - 1 if len(cumulative_returns) > 1 else 0
    }

# Display the performance results
for strategy_name, metrics in results.items():
    print(f"Performance Metrics for {strategy_name}:\n")
    for metric_name, value in metrics.items():
        print(f"{metric_name}: {value:.4f}")
    print("\n" + "-" * 50 + "\n")

# Plot cumulative returns for each strategy to visualize robustness
plt.figure(figsize=(14, 8))
for strategy_name, strategy_returns in strategies.items():
    plt.plot(strategy_returns.cumsum(), label=f'{strategy_name} Cumulative Returns')

plt.title('Cumulative Returns Comparison of Strategies')
plt.xlabel('Time (Index)')
plt.ylabel('Cumulative Returns')
plt.legend()
plt.grid(True)
plt.show()

# Sensitivity Analysis: Varying Volatility Levels
sensitivity_results = {}
volatility_levels = [0.1, 0.15, 0.2, 0.25, 0.3]
for vol_level in volatility_levels:
    # Adjust implied volatility and recalculate arbitrage profit
    data_ce_adjusted = data_ce.copy()
    data_ce_adjusted['iv'] = vol_level
    data_pe_adjusted = data_pe.copy()
    data_pe_adjusted['iv'] = vol_level

    # Calculate arbitrage profit with adjusted IV
    adj_arbitrage_profit = volatility_arbitrage(data_pe_adjusted, data_ce_adjusted)
    sensitivity_results[vol_level] = adj_arbitrage_profit.cumsum()

# Plot sensitivity analysis for volatility arbitrage strategy
plt.figure(figsize=(14, 8))
for vol_level, cumulative_profit in sensitivity_results.items():
    plt.plot(cumulative_profit, label=f'Volatility Level {vol_level}')

plt.title('Sensitivity Analysis: Volatility Arbitrage Under Different Volatility Levels')
plt.xlabel('Time (Index)')
plt.ylabel('Cumulative Returns')
plt.legend()
plt.grid(True)
plt.show()
